{
 "cells": [
  {
   "cell_type": "code",
   "execution_count": 4,
   "metadata": {},
   "outputs": [
    {
     "name": "stdout",
     "output_type": "stream",
     "text": [
      "elemento esta presente no indice 3\n"
     ]
    }
   ],
   "source": [
    "def busca_binaria(array, x, low, high):\n",
    "    while low <= high:\n",
    "        mid = low + (high - low)//2\n",
    "        if array[mid] == x:\n",
    "            return mid \n",
    "        elif array[mid] < x:\n",
    "            low = mid + 1\n",
    "        else: \n",
    "            high = mid - 1\n",
    "    return -1\n",
    "\n",
    "array = [3,4,5,6,7,8,9]\n",
    "x = 6 \n",
    "resultado = busca_binaria(array, x, 0, len(array)-1)\n",
    "\n",
    "if resultado -1:\n",
    "    print(f\"elemento esta presente no indice \" + str(resultado))\n",
    "else:\n",
    "    print(\"elemento não encontrado\")"
   ]
  },
  {
   "cell_type": "code",
   "execution_count": null,
   "metadata": {},
   "outputs": [],
   "source": [
    "def dfs (visitado, grafico, no):\n",
    "    if no not in visitado:\n",
    "        print(no)\n",
    "        visitado.add(no)\n",
    "        for vizinho in grafico[no]:\n",
    "            dfs(visitado, grafico, vizinho)\n",
    "        visitado = set()\n",
    "\n",
    "        dfs(visitado, grafico, '5')"
   ]
  }
 ],
 "metadata": {
  "kernelspec": {
   "display_name": "Python 3",
   "language": "python",
   "name": "python3"
  },
  "language_info": {
   "codemirror_mode": {
    "name": "ipython",
    "version": 3
   },
   "file_extension": ".py",
   "mimetype": "text/x-python",
   "name": "python",
   "nbconvert_exporter": "python",
   "pygments_lexer": "ipython3",
   "version": "3.11.4"
  },
  "orig_nbformat": 4
 },
 "nbformat": 4,
 "nbformat_minor": 2
}
