{
 "cells": [
  {
   "cell_type": "code",
   "execution_count": 1,
   "metadata": {},
   "outputs": [
    {
     "name": "stdout",
     "output_type": "stream",
     "text": [
      "o terceiro mes do ano é março\n",
      "os meses do segundo ao quarto são: ('fevereiro', 'março', 'abril')\n"
     ]
    }
   ],
   "source": [
    "#tuplas\n",
    "meses = ('janeiro', 'fevereiro', 'março','abril', 'maio', 'junho', 'julho', 'agosto',)\n",
    "print(f\"o terceiro mes do ano é {meses[2]}\")\n",
    "print (f\"os meses do segundo ao quarto são: {meses[1:4]}\")"
   ]
  },
  {
   "cell_type": "code",
   "execution_count": 3,
   "metadata": {},
   "outputs": [
    {
     "name": "stdout",
     "output_type": "stream",
     "text": [
      "['maça', 'banana', 'morango']\n",
      "lista de frutas atualizadas: ['maça', 'morango']\n",
      "lista de frutas atualizadas: ['maça', 'morango', 'abacaxi', 'uva']\n",
      "lista de frutas atualizadas: ['maça', 'abacaxi', 'uva']\n"
     ]
    }
   ],
   "source": [
    "#lista \n",
    "frutas = ['maça', 'banana', 'morango']\n",
    "print(frutas)\n",
    "frutas.remove('banana')\n",
    "print(f\"lista de frutas atualizadas: {frutas}\")\n",
    "frutas.extend(['abacaxi', 'uva'])\n",
    "print(f\"lista de frutas atualizadas: {frutas}\")\n",
    "del frutas[1]\n",
    "print(f\"lista de frutas atualizadas: {frutas}\")"
   ]
  },
  {
   "cell_type": "code",
   "execution_count": 5,
   "metadata": {},
   "outputs": [
    {
     "name": "stdout",
     "output_type": "stream",
     "text": [
      "[1, 2, 3]\n",
      "[4, 5, 6]\n",
      "lista concatenada: [1, 2, 3, 4, 5, 6]\n"
     ]
    }
   ],
   "source": [
    "lista1 = [1, 2, 3]\n",
    "lista2 = [4, 5, 6]\n",
    "print(lista1)\n",
    "print(lista2)\n",
    "listaConcatenada = lista1 + lista2\n",
    "print('lista concatenada:', listaConcatenada)"
   ]
  },
  {
   "cell_type": "code",
   "execution_count": 14,
   "metadata": {},
   "outputs": [
    {
     "name": "stdout",
     "output_type": "stream",
     "text": [
      "[1, 2, 3, 4, 5, 6, 7, 8, 9, 10]\n",
      "[2, 4, 6, 8, 10]\n"
     ]
    }
   ],
   "source": [
    "lista1 = [1,2,3,4,5,6,7,8,9,10]\n",
    "print(lista1)\n",
    "listaVazia = []\n",
    "listaVazia.extend(lista1[1:10:2])\n",
    "print(listaVazia)"
   ]
  },
  {
   "cell_type": "code",
   "execution_count": 30,
   "metadata": {},
   "outputs": [
    {
     "name": "stdout",
     "output_type": "stream",
     "text": [
      "O maior numero dessa lista é : 62\n"
     ]
    }
   ],
   "source": [
    "lista = [1,4,5,7,8,10,62,24]\n",
    "maiorNumero = lista[0]\n",
    "for i in range(len(lista)):\n",
    "    if lista[i] > maiorNumero:\n",
    "        maiorNumero = lista[i]\n",
    "\n",
    " \n",
    "print(f'O maior numero dessa lista é : {maiorNumero}')"
   ]
  },
  {
   "cell_type": "code",
   "execution_count": 35,
   "metadata": {},
   "outputs": [
    {
     "name": "stdout",
     "output_type": "stream",
     "text": [
      "['BANANA', 'ANÃO', 'CORINTHIANS']\n"
     ]
    }
   ],
   "source": [
    "listaPalavra = ['banana', 'anão', 'corinthians']\n",
    "listaPalavraCaps = [i.upper() for i in listaPalavra]\n",
    "print(listaPalavraCaps)"
   ]
  },
  {
   "cell_type": "code",
   "execution_count": 37,
   "metadata": {},
   "outputs": [
    {
     "data": {
      "text/plain": [
       "3"
      ]
     },
     "execution_count": 37,
     "metadata": {},
     "output_type": "execute_result"
    }
   ],
   "source": [
    "def busca_linear(array , n, x):\n",
    "    for i in range(0, n):\n",
    "        if array[i] == x:\n",
    "            return i \n",
    "    return -i\n",
    "\n",
    "array = [2, 4, 0, 1, 9]\n",
    "x = 1\n",
    "n = len(array)\n",
    "\n",
    "resultado = busca_linear(array, n, x)\n",
    "resultado"
   ]
  }
 ],
 "metadata": {
  "kernelspec": {
   "display_name": "Python 3",
   "language": "python",
   "name": "python3"
  },
  "language_info": {
   "codemirror_mode": {
    "name": "ipython",
    "version": 3
   },
   "file_extension": ".py",
   "mimetype": "text/x-python",
   "name": "python",
   "nbconvert_exporter": "python",
   "pygments_lexer": "ipython3",
   "version": "3.11.4"
  },
  "orig_nbformat": 4
 },
 "nbformat": 4,
 "nbformat_minor": 2
}
