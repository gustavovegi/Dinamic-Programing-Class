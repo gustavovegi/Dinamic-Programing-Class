{
 "cells": [
  {
   "cell_type": "code",
   "execution_count": 2,
   "metadata": {},
   "outputs": [
    {
     "name": "stdout",
     "output_type": "stream",
     "text": [
      "Collecting numpy\n",
      "  Downloading numpy-1.26.4-cp311-cp311-win_amd64.whl (15.8 MB)\n",
      "     --------------------------------------- 15.8/15.8 MB 10.6 MB/s eta 0:00:00\n",
      "Installing collected packages: numpy\n",
      "Successfully installed numpy-1.26.4\n",
      "Note: you may need to restart the kernel to use updated packages.\n"
     ]
    },
    {
     "name": "stderr",
     "output_type": "stream",
     "text": [
      "\n",
      "[notice] A new release of pip available: 22.3.1 -> 24.0\n",
      "[notice] To update, run: python.exe -m pip install --upgrade pip\n"
     ]
    }
   ],
   "source": [
    "%pip install numpy"
   ]
  },
  {
   "cell_type": "code",
   "execution_count": 3,
   "metadata": {},
   "outputs": [
    {
     "name": "stdout",
     "output_type": "stream",
     "text": [
      "[1 2 3 4 5]\n"
     ]
    }
   ],
   "source": [
    "import numpy as np \n",
    "\n",
    "array_unidimensional = np.array([1,2,3,4,5])\n",
    "\n",
    "print(array_unidimensional)"
   ]
  },
  {
   "cell_type": "code",
   "execution_count": 13,
   "metadata": {},
   "outputs": [
    {
     "name": "stdout",
     "output_type": "stream",
     "text": [
      "O resultado se encontra no indice 4\n"
     ]
    }
   ],
   "source": [
    "def busca_binaria(array, x, low, high):\n",
    "    while low <= high:\n",
    "        mid =(low + high)//2\n",
    "        if array[mid] == x:\n",
    "            return mid\n",
    "        elif array[mid] < x:\n",
    "            low = mid + 1 \n",
    "        else:\n",
    "            high = mid - 1\n",
    "    return -1 \n",
    "\n",
    "lista = [1,2,3,4,5,6]\n",
    "x = 5\n",
    "resultado = busca_binaria(lista, x, 0, len(lista)-1)\n",
    "\n",
    "if resultado != -1:\n",
    "    print(f\"O resultado se encontra no indice \" + str(resultado))\n",
    "else:\n",
    "    print(\"elemento não encontrado\")\n"
   ]
  },
  {
   "cell_type": "code",
   "execution_count": 14,
   "metadata": {},
   "outputs": [
    {
     "name": "stdout",
     "output_type": "stream",
     "text": [
      "3\n"
     ]
    }
   ],
   "source": [
    "def busca_linear(array, n,x):\n",
    "    for i in range (0,n):\n",
    "        if array[i] == x:\n",
    "            return i \n",
    "    return -1\n",
    "\n",
    "array = [6,4,2,1,0]\n",
    "x = 1\n",
    "n = len(array)\n",
    "resultado = busca_linear(array, n, x)\n",
    "\n",
    "print(resultado)"
   ]
  },
  {
   "cell_type": "code",
   "execution_count": 17,
   "metadata": {},
   "outputs": [
    {
     "name": "stdout",
     "output_type": "stream",
     "text": [
      "Resultado da pesquisa em profundidade será: \n",
      "5\n",
      "3\n",
      "2\n",
      "4\n",
      "8\n",
      "7\n"
     ]
    }
   ],
   "source": [
    "def dfs(visitado, grafico, no):\n",
    "    if no not in visitado:\n",
    "        print(no)\n",
    "        visitado.add(no)\n",
    "        for vizinho in grafico[no]:\n",
    "            dfs(visitado, grafico, vizinho)\n",
    "\n",
    "grafico = {\n",
    "    '5': ['3', '7'],\n",
    "    '3': ['2', '4'],\n",
    "    '7': ['8'],\n",
    "    '2': [],\n",
    "    '4': ['8'],\n",
    "    '8': [],\n",
    "}\n",
    "\n",
    "visitado = set()\n",
    "\n",
    "print(\"Resultado da pesquisa em profundidade será: \")\n",
    "dfs(visitado, grafico, '5')"
   ]
  },
  {
   "cell_type": "code",
   "execution_count": 18,
   "metadata": {},
   "outputs": [
    {
     "name": "stdout",
     "output_type": "stream",
     "text": [
      "resultado da pesquisa em largura sera: \n",
      "5\n",
      "3\n",
      "7\n",
      "2\n",
      "4\n",
      "8\n"
     ]
    }
   ],
   "source": [
    "def bfs(grafico, inicio):\n",
    "    visitados = set()\n",
    "    fila = []\n",
    "\n",
    "    fila.append(inicio)\n",
    "    visitados.add(inicio)\n",
    "\n",
    "    while fila:\n",
    "        no_atual=fila.pop(0)\n",
    "        print(no_atual)\n",
    "\n",
    "        for vizinho in grafico[no_atual]:\n",
    "            if vizinho not in visitados:\n",
    "                fila.append(vizinho)\n",
    "                visitados.add(vizinho)\n",
    "\n",
    "grafico = {\n",
    "    '5': ['3', '7'],\n",
    "    '3': ['2', '4'],\n",
    "    '7': ['8'],\n",
    "    '2': [],\n",
    "    '4': ['8'],\n",
    "    '8': [],\n",
    "}\n",
    "\n",
    "print(\"resultado da pesquisa em largura sera: \")\n",
    "bfs(grafico, '5')"
   ]
  },
  {
   "cell_type": "code",
   "execution_count": 21,
   "metadata": {},
   "outputs": [
    {
     "name": "stdout",
     "output_type": "stream",
     "text": [
      "o elemento encontra-se no indice 5\n"
     ]
    }
   ],
   "source": [
    "def busca_binaria1(array, x ,low , high):\n",
    "    while low <= high:\n",
    "        mid = (low + high)//2\n",
    "        if array[mid] == x:\n",
    "            return mid\n",
    "        elif array[mid] < x:\n",
    "            low = mid + 1\n",
    "        else:\n",
    "            high = mid - 1\n",
    "    return -1\n",
    "\n",
    "array = [1,2,3,4,5,6]\n",
    "x = 6\n",
    "resultado = busca_binaria1(array , x, 0, len(array)-1)\n",
    "\n",
    "if resultado != -1:\n",
    "    print(f\"o elemento encontra-se no indice \" + str(resultado))\n",
    "else:\n",
    "    print(\"elemento não encontrado\")"
   ]
  },
  {
   "cell_type": "code",
   "execution_count": 22,
   "metadata": {},
   "outputs": [
    {
     "name": "stdout",
     "output_type": "stream",
     "text": [
      "1\n"
     ]
    }
   ],
   "source": [
    "def busca_linear1(array, n, x):\n",
    "    for i in range(0, n):\n",
    "        if array[i] == x:\n",
    "            return i\n",
    "    return -1\n",
    "\n",
    "array = [1,2,3,4,5]\n",
    "x = 2\n",
    "resultado = busca_linear1(array, n, x)\n",
    "\n",
    "print(resultado)"
   ]
  },
  {
   "cell_type": "code",
   "execution_count": 23,
   "metadata": {},
   "outputs": [
    {
     "name": "stdout",
     "output_type": "stream",
     "text": [
      "resultado da pesquisa em profundidade é \n",
      "5\n",
      "3\n",
      "2\n",
      "4\n",
      "8\n",
      "7\n"
     ]
    }
   ],
   "source": [
    "def dfs1(visitado, grafico, no):\n",
    "    if no not in visitado:\n",
    "        print(no)\n",
    "        visitado.add(no)\n",
    "        for vizinho in grafico[no]:\n",
    "            dfs(visitado, grafico, vizinho)\n",
    "\n",
    "grafico = {\n",
    "    '5': ['3', '7'],\n",
    "    '3': ['2', '4'],\n",
    "    '7': ['8'],\n",
    "    '2': [],\n",
    "    '4': ['8'],\n",
    "    '8': [],\n",
    "}\n",
    "\n",
    "visitado = set()\n",
    "\n",
    "print(\"resultado da pesquisa em profundidade é \")\n",
    "dfs1(visitado, grafico, '5')"
   ]
  },
  {
   "cell_type": "code",
   "execution_count": 28,
   "metadata": {},
   "outputs": [
    {
     "name": "stdout",
     "output_type": "stream",
     "text": [
      "resultado da pesquisa em largura sera: \n",
      "5\n",
      "3\n",
      "7\n",
      "2\n",
      "4\n",
      "8\n"
     ]
    }
   ],
   "source": [
    "def bfs1(grafico, inicio):\n",
    "    visitado = set();\n",
    "    fila = []\n",
    "\n",
    "    fila.append(inicio)\n",
    "    visitado.add(inicio)\n",
    "\n",
    "    while fila:\n",
    "        no_atual = fila.pop(0)\n",
    "        print (no_atual)\n",
    "\n",
    "        for vizinho in grafico[no_atual]:\n",
    "            if vizinho not in visitado:\n",
    "                fila.append(vizinho)\n",
    "                visitado.add(vizinho)\n",
    "    \n",
    "grafico = {\n",
    "    '5': ['3', '7'],\n",
    "    '3': ['2', '4'],\n",
    "    '7': ['8'],\n",
    "    '2': [],\n",
    "    '4': ['8'],\n",
    "    '8': [],\n",
    "}\n",
    "\n",
    "print(\"resultado da pesquisa em largura sera: \")\n",
    "bfs1 (grafico, '5')"
   ]
  }
 ],
 "metadata": {
  "kernelspec": {
   "display_name": "Python 3",
   "language": "python",
   "name": "python3"
  },
  "language_info": {
   "codemirror_mode": {
    "name": "ipython",
    "version": 3
   },
   "file_extension": ".py",
   "mimetype": "text/x-python",
   "name": "python",
   "nbconvert_exporter": "python",
   "pygments_lexer": "ipython3",
   "version": "3.11.2"
  }
 },
 "nbformat": 4,
 "nbformat_minor": 2
}
