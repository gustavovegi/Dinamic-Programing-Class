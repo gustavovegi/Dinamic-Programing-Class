{
 "cells": [
  {
   "cell_type": "code",
   "execution_count": 8,
   "metadata": {},
   "outputs": [
    {
     "name": "stdout",
     "output_type": "stream",
     "text": [
      "Note: you may need to restart the kernel to use updated packages.\n"
     ]
    },
    {
     "name": "stderr",
     "output_type": "stream",
     "text": [
      "ERROR: Could not find a version that satisfies the requirement matplotlib.pyplot (from versions: none)\n",
      "ERROR: No matching distribution found for matplotlib.pyplot\n",
      "\n",
      "[notice] A new release of pip is available: 23.1.2 -> 24.0\n",
      "[notice] To update, run: python.exe -m pip install --upgrade pip\n"
     ]
    }
   ],
   "source": [
    "%pip install matplotlib.pyplot"
   ]
  },
  {
   "cell_type": "code",
   "execution_count": 2,
   "metadata": {},
   "outputs": [
    {
     "name": "stdout",
     "output_type": "stream",
     "text": [
      "Collecting numpy\n",
      "  Downloading numpy-1.26.4-cp311-cp311-win_amd64.whl (15.8 MB)\n",
      "                                              0.0/15.8 MB ? eta -:--:--\n",
      "                                              0.0/15.8 MB 1.9 MB/s eta 0:00:09\n",
      "                                              0.1/15.8 MB 1.2 MB/s eta 0:00:14\n",
      "                                              0.2/15.8 MB 1.7 MB/s eta 0:00:10\n",
      "     -                                        0.4/15.8 MB 2.4 MB/s eta 0:00:07\n",
      "     -                                        0.6/15.8 MB 2.9 MB/s eta 0:00:06\n",
      "     --                                       0.8/15.8 MB 3.1 MB/s eta 0:00:05\n",
      "     ---                                      1.3/15.8 MB 4.2 MB/s eta 0:00:04\n",
      "     ------                                   2.4/15.8 MB 7.1 MB/s eta 0:00:02\n",
      "     -------                                  3.0/15.8 MB 8.0 MB/s eta 0:00:02\n",
      "     -------                                  3.1/15.8 MB 6.8 MB/s eta 0:00:02\n",
      "     --------                                 3.3/15.8 MB 7.1 MB/s eta 0:00:02\n",
      "     --------                                 3.3/15.8 MB 7.1 MB/s eta 0:00:02\n",
      "     --------                                 3.3/15.8 MB 7.1 MB/s eta 0:00:02\n",
      "     --------                                 3.3/15.8 MB 7.1 MB/s eta 0:00:02\n",
      "     --------                                 3.3/15.8 MB 7.1 MB/s eta 0:00:02\n",
      "     --------                                 3.3/15.8 MB 7.1 MB/s eta 0:00:02\n",
      "     --------                                 3.3/15.8 MB 7.1 MB/s eta 0:00:02\n",
      "     --------                                 3.3/15.8 MB 7.1 MB/s eta 0:00:02\n",
      "     --------                                 3.3/15.8 MB 7.1 MB/s eta 0:00:02\n",
      "     --------                                 3.3/15.8 MB 7.1 MB/s eta 0:00:02\n",
      "     --------                                 3.3/15.8 MB 7.1 MB/s eta 0:00:02\n",
      "     --------                                 3.3/15.8 MB 7.1 MB/s eta 0:00:02\n",
      "     --------                                 3.3/15.8 MB 7.1 MB/s eta 0:00:02\n",
      "     --------                                 3.3/15.8 MB 7.1 MB/s eta 0:00:02\n",
      "     --------                                 3.3/15.8 MB 7.1 MB/s eta 0:00:02\n",
      "     --------                                 3.3/15.8 MB 7.1 MB/s eta 0:00:02\n",
      "     --------                                 3.3/15.8 MB 7.1 MB/s eta 0:00:02\n",
      "     --------                                 3.3/15.8 MB 7.1 MB/s eta 0:00:02\n",
      "     --------                                 3.3/15.8 MB 7.1 MB/s eta 0:00:02\n",
      "     --------                                 3.3/15.8 MB 7.1 MB/s eta 0:00:02\n",
      "     --------                                 3.4/15.8 MB 2.4 MB/s eta 0:00:06\n",
      "     --------                                 3.4/15.8 MB 2.3 MB/s eta 0:00:06\n",
      "     --------                                 3.5/15.8 MB 2.3 MB/s eta 0:00:06\n",
      "     ------------                             4.8/15.8 MB 3.0 MB/s eta 0:00:04\n",
      "     ----------------                         6.6/15.8 MB 4.0 MB/s eta 0:00:03\n",
      "     ----------------                         6.6/15.8 MB 4.1 MB/s eta 0:00:03\n",
      "     ------------------                       7.3/15.8 MB 4.4 MB/s eta 0:00:02\n",
      "     --------------------                     8.0/15.8 MB 4.6 MB/s eta 0:00:02\n",
      "     --------------------                     8.0/15.8 MB 4.6 MB/s eta 0:00:02\n",
      "     ---------------------                    8.3/15.8 MB 4.5 MB/s eta 0:00:02\n",
      "     ------------------------                 9.8/15.8 MB 5.2 MB/s eta 0:00:02\n",
      "     ------------------------------           12.1/15.8 MB 6.4 MB/s eta 0:00:01\n",
      "     ------------------------------           12.1/15.8 MB 6.4 MB/s eta 0:00:01\n",
      "     ------------------------------           12.1/15.8 MB 6.4 MB/s eta 0:00:01\n",
      "     ------------------------------           12.1/15.8 MB 6.4 MB/s eta 0:00:01\n",
      "     ------------------------------           12.1/15.8 MB 6.4 MB/s eta 0:00:01\n",
      "     ------------------------------           12.1/15.8 MB 6.4 MB/s eta 0:00:01\n",
      "     ------------------------------           12.1/15.8 MB 6.4 MB/s eta 0:00:01\n",
      "     ------------------------------           12.1/15.8 MB 6.4 MB/s eta 0:00:01\n",
      "     ------------------------------           12.1/15.8 MB 6.4 MB/s eta 0:00:01\n",
      "     ------------------------------           12.1/15.8 MB 6.4 MB/s eta 0:00:01\n",
      "     ------------------------------           12.1/15.8 MB 6.4 MB/s eta 0:00:01\n",
      "     ------------------------------           12.1/15.8 MB 6.4 MB/s eta 0:00:01\n",
      "     ------------------------------           12.1/15.8 MB 6.4 MB/s eta 0:00:01\n",
      "     ------------------------------           12.1/15.8 MB 6.4 MB/s eta 0:00:01\n",
      "     ------------------------------           12.1/15.8 MB 6.4 MB/s eta 0:00:01\n",
      "     ------------------------------           12.1/15.8 MB 6.4 MB/s eta 0:00:01\n",
      "     ------------------------------           12.1/15.8 MB 6.4 MB/s eta 0:00:01\n",
      "     ------------------------------           12.1/15.8 MB 6.4 MB/s eta 0:00:01\n",
      "     ------------------------------           12.1/15.8 MB 6.4 MB/s eta 0:00:01\n",
      "     ------------------------------           12.1/15.8 MB 6.4 MB/s eta 0:00:01\n",
      "     ------------------------------           12.1/15.8 MB 6.4 MB/s eta 0:00:01\n",
      "     ------------------------------           12.1/15.8 MB 6.4 MB/s eta 0:00:01\n",
      "     ------------------------------           12.1/15.8 MB 6.4 MB/s eta 0:00:01\n",
      "     ------------------------------           12.1/15.8 MB 3.9 MB/s eta 0:00:01\n",
      "     ------------------------------           12.1/15.8 MB 3.9 MB/s eta 0:00:01\n",
      "     ------------------------------           12.1/15.8 MB 3.7 MB/s eta 0:00:01\n",
      "     ------------------------------           12.1/15.8 MB 3.7 MB/s eta 0:00:02\n",
      "     ------------------------------           12.2/15.8 MB 3.6 MB/s eta 0:00:02\n",
      "     ------------------------------           12.2/15.8 MB 3.5 MB/s eta 0:00:02\n",
      "     ------------------------------           12.2/15.8 MB 3.5 MB/s eta 0:00:02\n",
      "     ------------------------------           12.2/15.8 MB 3.5 MB/s eta 0:00:02\n",
      "     -------------------------------          12.3/15.8 MB 3.4 MB/s eta 0:00:02\n",
      "     -------------------------------          12.3/15.8 MB 3.3 MB/s eta 0:00:02\n",
      "     -------------------------------          12.4/15.8 MB 3.3 MB/s eta 0:00:02\n",
      "     -------------------------------          12.5/15.8 MB 3.2 MB/s eta 0:00:02\n",
      "     -------------------------------          12.6/15.8 MB 3.2 MB/s eta 0:00:02\n",
      "     --------------------------------         12.7/15.8 MB 3.1 MB/s eta 0:00:01\n",
      "     --------------------------------         12.7/15.8 MB 3.1 MB/s eta 0:00:01\n",
      "     --------------------------------         12.7/15.8 MB 3.1 MB/s eta 0:00:01\n",
      "     --------------------------------         12.7/15.8 MB 3.1 MB/s eta 0:00:01\n",
      "     ---------------------------------        13.2/15.8 MB 3.0 MB/s eta 0:00:01\n",
      "     ---------------------------------        13.4/15.8 MB 3.0 MB/s eta 0:00:01\n",
      "     ----------------------------------       13.5/15.8 MB 3.0 MB/s eta 0:00:01\n",
      "     ----------------------------------       13.6/15.8 MB 4.0 MB/s eta 0:00:01\n",
      "     ----------------------------------       13.7/15.8 MB 4.2 MB/s eta 0:00:01\n",
      "     ------------------------------------     14.6/15.8 MB 4.1 MB/s eta 0:00:01\n",
      "     ---------------------------------------  15.6/15.8 MB 4.1 MB/s eta 0:00:01\n",
      "     ---------------------------------------  15.7/15.8 MB 4.0 MB/s eta 0:00:01\n",
      "     ---------------------------------------  15.7/15.8 MB 4.0 MB/s eta 0:00:01\n",
      "     ---------------------------------------  15.8/15.8 MB 3.9 MB/s eta 0:00:01\n",
      "     ---------------------------------------  15.8/15.8 MB 3.9 MB/s eta 0:00:01\n",
      "     ---------------------------------------- 15.8/15.8 MB 3.7 MB/s eta 0:00:00\n",
      "Installing collected packages: numpy\n",
      "Successfully installed numpy-1.26.4\n",
      "Note: you may need to restart the kernel to use updated packages.\n"
     ]
    },
    {
     "name": "stderr",
     "output_type": "stream",
     "text": [
      "\n",
      "[notice] A new release of pip is available: 23.1.2 -> 24.0\n",
      "[notice] To update, run: python.exe -m pip install --upgrade pip\n"
     ]
    }
   ],
   "source": [
    "%pip install numpy"
   ]
  },
  {
   "cell_type": "code",
   "execution_count": 4,
   "metadata": {},
   "outputs": [],
   "source": [
    "#Exemplo para matriz de rotação \n",
    "\n",
    "import numpy as np\n",
    "\n",
    "def rotacionar_ponto(x, y, angulo):\n",
    "    #converter o angulo para radianos\n",
    "    angulos_radianos = np.radians(angulo)\n",
    "\n",
    "    #matriz de rotação\n",
    "    matriz_rotação = np.array([[np.cos(angulos_radianos), -np.sin(angulos_radianos)]], \n",
    "                              [np.sin(angulos_radianos), -np.cos(angulos_radianos)])\n",
    "    \n",
    "    ponto = np.array ([x,y])\n",
    "\n",
    "    ponto_rotacionado = np.dot(matriz_rotação, ponto)\n",
    "    return ponto_relacionado[0], ponto_rotacionado [1]"
   ]
  },
  {
   "cell_type": "code",
   "execution_count": 7,
   "metadata": {},
   "outputs": [
    {
     "name": "stdout",
     "output_type": "stream",
     "text": [
      "(2, 3, 45)\n"
     ]
    }
   ],
   "source": [
    "x, y = 2, 3\n",
    "angulo = 45 \n",
    "\n",
    "ponto_dot = (x, y, angulo)\n",
    "print(ponto_dot)"
   ]
  },
  {
   "cell_type": "code",
   "execution_count": null,
   "metadata": {},
   "outputs": [],
   "source": [
    "#Exemplo 2 \n",
    "\n",
    "import matplotlib.pyplot as plt \n",
    "\n",
    "#direções para o personagem olhar \n",
    "direcoes = [0, 45, 90, 135, 180]\n",
    "\n",
    "#função para aplicar  a rotação em um ponto \n",
    "\n",
    "def aplicar_rotacao(ponto, angulo):\n",
    "    theta = np.radians (angulo)\n",
    "    matriz_rotacao = np.array([2* np.cos(np.radians(theta)), 2 * np.sin(np.radians(theta)),\n",
    "                               np.sin(theta), np.cos(theta)])\n",
    "    return np.dot(matriz_rotacao, ponto) "
   ]
  }
 ],
 "metadata": {
  "kernelspec": {
   "display_name": "Python 3",
   "language": "python",
   "name": "python3"
  },
  "language_info": {
   "codemirror_mode": {
    "name": "ipython",
    "version": 3
   },
   "file_extension": ".py",
   "mimetype": "text/x-python",
   "name": "python",
   "nbconvert_exporter": "python",
   "pygments_lexer": "ipython3",
   "version": "3.11.4"
  },
  "orig_nbformat": 4
 },
 "nbformat": 4,
 "nbformat_minor": 2
}
